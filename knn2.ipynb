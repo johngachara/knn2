{
 "cells": [
  {
   "cell_type": "code",
   "execution_count": 2,
   "metadata": {},
   "outputs": [],
   "source": [
    "from sklearn import datasets\n",
    "from sklearn.model_selection import train_test_split\n",
    "from sklearn.metrics import accuracy_score\n",
    "from sklearn.neighbors import KNeighborsClassifier"
   ]
  },
  {
   "cell_type": "code",
   "execution_count": 3,
   "metadata": {},
   "outputs": [
    {
     "name": "stdout",
     "output_type": "stream",
     "text": [
      "Training accuracy:  0.8314606741573034\n",
      "Accuracy Score: 0.6292134831460674\n",
      "Predictions: [2 2 2 2 0 1 1 0 2 2 1 1 1 0 0 2 1 0 1 2 1 2 1 0 2 1 1 1 0 1 1 0 1 2 0 0 0\n",
      " 0 1 0 1 1 2 0 1 0 2 2 2 0 1 1 1 2 0 0 2 0 1 1 0 1 2 1 1 2 1 0 1 0 2 1 1 2\n",
      " 0 1 2 0 1 1 1 0 1 1 1 1 2 2 1]\n"
     ]
    }
   ],
   "source": [
    "data = datasets.load_wine()\n",
    "features = data.data\n",
    "to_predict = data.target\n",
    "# Splitting the dataset into training and testing sets\n",
    "X_train, X_test, y_train, y_test = train_test_split(features, to_predict, test_size=.5)\n",
    "model = KNeighborsClassifier()\n",
    "model.fit(X_train,y_train)\n",
    "print(\"Training accuracy: \", model.score(X_train, y_train))\n",
    "prediction = model.predict(X_test)\n",
    "print(\"Accuracy Score:\",accuracy_score(y_test,prediction))\n",
    "print(\"Predictions:\",prediction)"
   ]
  }
 ],
 "metadata": {
  "kernelspec": {
   "display_name": "Python 3",
   "language": "python",
   "name": "python3"
  },
  "language_info": {
   "codemirror_mode": {
    "name": "ipython",
    "version": 3
   },
   "file_extension": ".py",
   "mimetype": "text/x-python",
   "name": "python",
   "nbconvert_exporter": "python",
   "pygments_lexer": "ipython3",
   "version": "3.12.0"
  }
 },
 "nbformat": 4,
 "nbformat_minor": 2
}
